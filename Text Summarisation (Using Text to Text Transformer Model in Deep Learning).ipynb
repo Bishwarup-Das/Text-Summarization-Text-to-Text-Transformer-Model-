{
 "cells": [
  {
   "cell_type": "markdown",
   "id": "3e49b512",
   "metadata": {},
   "source": [
    "## Importing Libraries...."
   ]
  },
  {
   "cell_type": "code",
   "execution_count": 1,
   "id": "2e972e98",
   "metadata": {},
   "outputs": [],
   "source": [
    "import torch\n",
    "from transformers import T5ForConditionalGeneration, T5Tokenizer,T5Config"
   ]
  },
  {
   "cell_type": "markdown",
   "id": "2db8287f",
   "metadata": {},
   "source": [
    "## Initializing Pretrained - Model and Tokens...."
   ]
  },
  {
   "cell_type": "code",
   "execution_count": 2,
   "id": "7007a030",
   "metadata": {},
   "outputs": [
    {
     "name": "stderr",
     "output_type": "stream",
     "text": [
      "/Users/bishwarupdas/opt/anaconda3/lib/python3.9/site-packages/transformers/models/t5/tokenization_t5.py:163: FutureWarning: This tokenizer was incorrectly instantiated with a model max length of 512 which will be corrected in Transformers v5.\n",
      "For now, this behavior is kept to avoid breaking backwards compatibility when padding/encoding with `truncation is True`.\n",
      "- Be aware that you SHOULD NOT rely on t5-small automatically truncating your input to 512 when padding/encoding.\n",
      "- If you want to encode/pad to sequences longer than 512 you can either instantiate this tokenizer with `model_max_length` or pass `max_length` when encoding/padding.\n",
      "- To avoid this warning, please instantiate this tokenizer with `model_max_length` set to your preferred value.\n",
      "  warnings.warn(\n"
     ]
    }
   ],
   "source": [
    "model = T5ForConditionalGeneration.from_pretrained('t5-small')\n",
    "tokenizer = T5Tokenizer.from_pretrained('t5-small')\n",
    "device = torch.device('cpu')"
   ]
  },
  {
   "cell_type": "markdown",
   "id": "7f008c06",
   "metadata": {},
   "source": [
    "## Input Text...."
   ]
  },
  {
   "cell_type": "code",
   "execution_count": 3,
   "id": "c746ee41",
   "metadata": {},
   "outputs": [
    {
     "name": "stdout",
     "output_type": "stream",
     "text": [
      "Enter the text to be Summarized : The sun was shining brightly in the sky as John made his way down the crowded city streets. He had always loved the energy and bustle of the city, and today was no exception. He was on his way to meet his friend, Ben, for lunch at their favourite restaurant.  As he walked, John couldn't help but reflect on the past year of his life. It had been a time of great change and growth, as he had left his old job and started a new business. It had been a risky move, but he had always known that he was meant for something more. And now, as he saw the success of his company starting to take off, he knew that he had made the right decision.  When he finally arrived at the restaurant, he saw Ben waiting for him outside. They greeted each other with a hug and made their way inside. As they sat down at their usual table, John couldn't help but feel grateful for the support and friendship of his loved ones.  Over the course of the meal, they caught up on all the latest news and events. Ben had recently gotten engaged, and John was thrilled for him. They talked about the wedding plans and all the excitement that came along with it.  After they had finished eating, John and Ben decided to take a walk through the park. The weather was perfect, and they enjoyed the feeling of the sun on their skin as they strolled along the paths. They stopped to watch a group of children playing soccer, their laughter and shouts filling the air.  As they continued on their walk, John's thoughts turned to the future. He had always been a dreamer, and he had big plans for his life. He wanted to travel the world, to see all the amazing sights and experiences it had to offer. He wanted to make a difference in the world, to leave a positive impact on those around him.  But most of all, John wanted to find happiness and fulfillment. He had spent so many years chasing after success and material possessions, only to realize that those things didn't bring true happiness. He had learned that the things that really mattered in life were the relationships he had with the people he loved.  As they made their way back to the restaurant, John felt a sense of clarity and purpose. He knew that he had a lot of work to do, but he also knew that he was on the right path. With Ben by his side, he felt ready to take on whatever the world had in store for him.  As the sun began to set, John and Ben said their goodbyes and went their separate ways. John walked home with a spring in his step, feeling grateful and hopeful for the future. He knew that there would be challenges ahead, but he was ready to face them with determination and an open heart.  And so, as the night fell and the stars came out, John went to bed with a smile on his face, feeling thankful for the life he had built and the journey that lay ahead.\n"
     ]
    }
   ],
   "source": [
    "text = input(\"Enter the text to be Summarized : \")"
   ]
  },
  {
   "cell_type": "markdown",
   "id": "a5357cab",
   "metadata": {},
   "source": [
    "## Preprocessing text...."
   ]
  },
  {
   "cell_type": "code",
   "execution_count": 4,
   "id": "e1e40174",
   "metadata": {},
   "outputs": [],
   "source": [
    "preprocessed_text = text.strip().replace('\\n','')\n",
    "t5_input_text = 'Text to be summmerized : '+ preprocessed_text"
   ]
  },
  {
   "cell_type": "markdown",
   "id": "668c7557",
   "metadata": {},
   "source": [
    "## Input Text...."
   ]
  },
  {
   "cell_type": "code",
   "execution_count": 5,
   "id": "8e9f4de5",
   "metadata": {},
   "outputs": [
    {
     "data": {
      "text/plain": [
       "\"Text to be summmerized : The sun was shining brightly in the sky as John made his way down the crowded city streets. He had always loved the energy and bustle of the city, and today was no exception. He was on his way to meet his friend, Ben, for lunch at their favourite restaurant.  As he walked, John couldn't help but reflect on the past year of his life. It had been a time of great change and growth, as he had left his old job and started a new business. It had been a risky move, but he had always known that he was meant for something more. And now, as he saw the success of his company starting to take off, he knew that he had made the right decision.  When he finally arrived at the restaurant, he saw Ben waiting for him outside. They greeted each other with a hug and made their way inside. As they sat down at their usual table, John couldn't help but feel grateful for the support and friendship of his loved ones.  Over the course of the meal, they caught up on all the latest news and events. Ben had recently gotten engaged, and John was thrilled for him. They talked about the wedding plans and all the excitement that came along with it.  After they had finished eating, John and Ben decided to take a walk through the park. The weather was perfect, and they enjoyed the feeling of the sun on their skin as they strolled along the paths. They stopped to watch a group of children playing soccer, their laughter and shouts filling the air.  As they continued on their walk, John's thoughts turned to the future. He had always been a dreamer, and he had big plans for his life. He wanted to travel the world, to see all the amazing sights and experiences it had to offer. He wanted to make a difference in the world, to leave a positive impact on those around him.  But most of all, John wanted to find happiness and fulfillment. He had spent so many years chasing after success and material possessions, only to realize that those things didn't bring true happiness. He had learned that the things that really mattered in life were the relationships he had with the people he loved.  As they made their way back to the restaurant, John felt a sense of clarity and purpose. He knew that he had a lot of work to do, but he also knew that he was on the right path. With Ben by his side, he felt ready to take on whatever the world had in store for him.  As the sun began to set, John and Ben said their goodbyes and went their separate ways. John walked home with a spring in his step, feeling grateful and hopeful for the future. He knew that there would be challenges ahead, but he was ready to face them with determination and an open heart.  And so, as the night fell and the stars came out, John went to bed with a smile on his face, feeling thankful for the life he had built and the journey that lay ahead.\""
      ]
     },
     "execution_count": 5,
     "metadata": {},
     "output_type": "execute_result"
    }
   ],
   "source": [
    "t5_input_text"
   ]
  },
  {
   "cell_type": "markdown",
   "id": "89776885",
   "metadata": {},
   "source": [
    "## Length of input Text...."
   ]
  },
  {
   "cell_type": "code",
   "execution_count": 6,
   "id": "45de4e29",
   "metadata": {},
   "outputs": [],
   "source": [
    "length_text = len(t5_input_text.split())"
   ]
  },
  {
   "cell_type": "code",
   "execution_count": 7,
   "id": "e3ebaaa9",
   "metadata": {},
   "outputs": [
    {
     "name": "stdout",
     "output_type": "stream",
     "text": [
      "Length of the Text is 541 Words\n"
     ]
    }
   ],
   "source": [
    "print(\"Length of the Text is\",length_text,\"Words\")"
   ]
  },
  {
   "cell_type": "markdown",
   "id": "49aa2f25",
   "metadata": {},
   "source": [
    "## Encoding Text...."
   ]
  },
  {
   "cell_type": "code",
   "execution_count": 8,
   "id": "216d0774",
   "metadata": {},
   "outputs": [],
   "source": [
    "tokenized_text = tokenizer.encode(t5_input_text, return_tensors = 'pt',max_length = 512, truncation = True).to(device)"
   ]
  },
  {
   "cell_type": "markdown",
   "id": "4d8fed8a",
   "metadata": {},
   "source": [
    "## Generating Summary & Decoding...."
   ]
  },
  {
   "cell_type": "code",
   "execution_count": 9,
   "id": "3b595d2f",
   "metadata": {},
   "outputs": [],
   "source": [
    "summary_ids = model.generate(tokenized_text, max_length =128, min_length = 50, length_penalty=2.0, early_stopping=True)\n",
    "summary = tokenizer.decode(summary_ids[0], skip_special_tokens = True)"
   ]
  },
  {
   "cell_type": "markdown",
   "id": "3281d575",
   "metadata": {},
   "source": [
    "## Summary...."
   ]
  },
  {
   "cell_type": "code",
   "execution_count": 10,
   "id": "212beab0",
   "metadata": {},
   "outputs": [],
   "source": [
    "summarized_text = \"Summarized Text : \" + summary"
   ]
  },
  {
   "cell_type": "code",
   "execution_count": 11,
   "id": "9f593171",
   "metadata": {},
   "outputs": [
    {
     "data": {
      "text/plain": [
       "'Summarized Text : John had always been a dreamer, and he had big plans for his life. he had always been a dreamer, and he had big plans for his life. he had always been a dreamer, and he had a passion for the city.'"
      ]
     },
     "execution_count": 11,
     "metadata": {},
     "output_type": "execute_result"
    }
   ],
   "source": [
    "summarized_text"
   ]
  },
  {
   "cell_type": "markdown",
   "id": "f2887f81",
   "metadata": {},
   "source": [
    "## Length of summary...."
   ]
  },
  {
   "cell_type": "code",
   "execution_count": 12,
   "id": "b4d13902",
   "metadata": {},
   "outputs": [],
   "source": [
    "summary_length = len(summary.split())"
   ]
  },
  {
   "cell_type": "code",
   "execution_count": 13,
   "id": "e8cc9883",
   "metadata": {},
   "outputs": [
    {
     "name": "stdout",
     "output_type": "stream",
     "text": [
      "Length of Summarized Text is 42 Words\n"
     ]
    }
   ],
   "source": [
    "print(\"Length of Summarized Text is\", summary_length,\"Words\")"
   ]
  }
 ],
 "metadata": {
  "kernelspec": {
   "display_name": "Python 3 (ipykernel)",
   "language": "python",
   "name": "python3"
  },
  "language_info": {
   "codemirror_mode": {
    "name": "ipython",
    "version": 3
   },
   "file_extension": ".py",
   "mimetype": "text/x-python",
   "name": "python",
   "nbconvert_exporter": "python",
   "pygments_lexer": "ipython3",
   "version": "3.9.12"
  }
 },
 "nbformat": 4,
 "nbformat_minor": 5
}
